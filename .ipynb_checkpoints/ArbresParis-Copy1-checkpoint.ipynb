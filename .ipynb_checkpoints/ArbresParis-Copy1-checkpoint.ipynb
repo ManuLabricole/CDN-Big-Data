{
 "cells": [
  {
   "cell_type": "markdown",
   "id": "29511fb6-8298-4876-8d66-085922e1c149",
   "metadata": {
    "jp-MarkdownHeadingCollapsed": true
   },
   "source": [
    "# Import & Launch Session"
   ]
  },
  {
   "cell_type": "code",
   "execution_count": 1,
   "id": "933d36b3-ff00-4c15-a079-88445fb43f8d",
   "metadata": {},
   "outputs": [],
   "source": [
    "import pandas as pd\n",
    "import os"
   ]
  },
  {
   "cell_type": "code",
   "execution_count": 2,
   "id": "41157a86-0626-4cd1-b023-a05f6006b916",
   "metadata": {},
   "outputs": [],
   "source": [
    "from pyspark import SparkContext, SparkConf\n",
    "from pyspark.sql import SparkSession, Row"
   ]
  },
  {
   "cell_type": "markdown",
   "id": "558b8059-849e-4970-bd56-57f06201ed47",
   "metadata": {
    "jp-MarkdownHeadingCollapsed": true
   },
   "source": [
    "### Utils"
   ]
  },
  {
   "cell_type": "code",
   "execution_count": 3,
   "id": "dd524ce1-0332-4ac2-a11b-d24eea4dfe37",
   "metadata": {},
   "outputs": [],
   "source": [
    "def print_context_infos(context):\n",
    "    print(\"VERSION: \",context.version)\n",
    "    print(\"PYTHON_VERSION: \", context.pythonVer)\n",
    "    print(\"MASTER: \", context.master)\n",
    "    print(\"SPARK_HOME: \", str(context.sparkHome))\n",
    "    print(\"SPARK_USER: \", str(context.sparkUser()))\n",
    "    print(\"APP_NAME: \", context.appName)\n",
    "    print(\"APP_ID: \", context.applicationId)\n",
    "    print(\"DEFAULT_PARALLESLISM: \", context.defaultParallelism)\n",
    "    print(\"DEFAULT_PARTITION: \", context.defaultMinPartitions)"
   ]
  },
  {
   "cell_type": "markdown",
   "id": "2ed16276-8f60-459d-96e0-a2e30c3e612c",
   "metadata": {
    "jp-MarkdownHeadingCollapsed": true
   },
   "source": [
    "### Initialisation"
   ]
  },
  {
   "cell_type": "code",
   "execution_count": 4,
   "id": "1cb17d38-9eba-4792-bd91-5e524fa7a249",
   "metadata": {},
   "outputs": [
    {
     "name": "stdout",
     "output_type": "stream",
     "text": [
      "/Users/manulabricole/Documents/CDN/BigData\n"
     ]
    }
   ],
   "source": [
    "cwd = os.getcwd()\n",
    "print(cwd)"
   ]
  },
  {
   "cell_type": "code",
   "execution_count": 6,
   "id": "412e4ff6-8253-4a37-8d69-1998a0600acf",
   "metadata": {},
   "outputs": [
    {
     "name": "stdout",
     "output_type": "stream",
     "text": [
      "Spark Web UI: http://localhost:4040\n"
     ]
    }
   ],
   "source": [
    "spark_session = SparkSession.builder \\\n",
    "    .appName(\"MySparkSession\") \\\n",
    "    .config(\"spark.driver.bindAddress\", \"127.0.0.1\") \\\n",
    "    .enableHiveSupport() \\\n",
    "    .getOrCreate()\n",
    "print(\"Spark Web UI: http://localhost:4040\")"
   ]
  },
  {
   "cell_type": "code",
   "execution_count": 7,
   "id": "27975928-0d57-4d22-9a1a-eb5f689ac7f2",
   "metadata": {},
   "outputs": [
    {
     "name": "stdout",
     "output_type": "stream",
     "text": [
      "VERSION:  3.4.1\n",
      "PYTHON_VERSION:  3.11\n",
      "MASTER:  local[*]\n",
      "SPARK_HOME:  None\n",
      "SPARK_USER:  manulabricole\n",
      "APP_NAME:  MySparkSession\n",
      "APP_ID:  local-1690275468195\n",
      "DEFAULT_PARALLESLISM:  10\n",
      "DEFAULT_PARTITION:  2\n"
     ]
    }
   ],
   "source": [
    "spark_context = spark_session.sparkContext\n",
    "print_context_infos(spark_context)"
   ]
  },
  {
   "cell_type": "markdown",
   "id": "5291482b-6d4e-4731-9325-fe662a5695eb",
   "metadata": {
    "jp-MarkdownHeadingCollapsed": true
   },
   "source": [
    "# Import & Load data"
   ]
  },
  {
   "cell_type": "code",
   "execution_count": 8,
   "id": "3afd264d-feaa-40aa-89e3-2f86cf92ee63",
   "metadata": {},
   "outputs": [
    {
     "name": "stdout",
     "output_type": "stream",
     "text": [
      "/Users/manulabricole/Documents/CDN/BigData/arbresremarquablesparis.csv\n"
     ]
    }
   ],
   "source": [
    "csv_file_path = os.path.join(str(cwd), \"arbresremarquablesparis.csv\")\n",
    "print(csv_file_path)"
   ]
  },
  {
   "cell_type": "code",
   "execution_count": 20,
   "id": "e6c976ac-70bb-43ad-827e-6ea497bbc70e",
   "metadata": {},
   "outputs": [],
   "source": [
    "rdd = spark_session.read.csv(csv_file_path, sep=';', header=True)"
   ]
  },
  {
   "cell_type": "markdown",
   "id": "745a8a3e-e10b-49ef-a7b5-f09098ef2038",
   "metadata": {
    "jp-MarkdownHeadingCollapsed": true
   },
   "source": [
    "# Play & Explore DataFrame"
   ]
  },
  {
   "cell_type": "code",
   "execution_count": 40,
   "id": "aa44f9ce-c690-4a8e-82a6-e552752c3877",
   "metadata": {},
   "outputs": [],
   "source": [
    "from pyspark.sql.functions import col, mean, min, max"
   ]
  },
  {
   "cell_type": "code",
   "execution_count": 41,
   "id": "4ef889be-bbc0-45d7-894f-8984f2cd4d53",
   "metadata": {},
   "outputs": [
    {
     "name": "stdout",
     "output_type": "stream",
     "text": [
      "['Geo point', 'idbase', 'domanialite', 'arrondissement3', 'complement adresse', 'numero', 'adresse6', 'circonference en cm', 'hauteur en m', 'stade développement', 'pépinière', 'genre', 'espèce', 'varieteoucultivar', 'date de plantation', 'libellé Français', 'ID Base', 'ID arbre', 'Site', 'Adresse19', \"Complément d'adresse\", 'Arrondissement21', 'Domanialité', 'Dénomination usuelle', 'Dénomination botanique', 'Autorité taxonomique', 'Année de plantation', 'Qualification remarquable', 'Résumé', 'Descriptif', 'Numéro de délibération', 'Date de la délibération', 'Label national', 'Panonceau', 'Photo 1', 'Copyright 1']\n"
     ]
    }
   ],
   "source": [
    "columns = rdd.columns\n",
    "print(columns)"
   ]
  },
  {
   "cell_type": "markdown",
   "id": "9a27d1d1-c982-489d-aeb8-bdf9146a1c2f",
   "metadata": {},
   "source": [
    "#### Age"
   ]
  },
  {
   "cell_type": "code",
   "execution_count": 42,
   "id": "8a45838a-777a-481f-89a5-da1cb853c353",
   "metadata": {},
   "outputs": [
    {
     "name": "stdout",
     "output_type": "stream",
     "text": [
      "max age:  421\n"
     ]
    }
   ],
   "source": [
    "max_age = 2023 - int(rdd.agg(min(\"Année de plantation\")).collect()[0][0])\n",
    "print(\"max age: \", max_age)"
   ]
  },
  {
   "cell_type": "markdown",
   "id": "4c7ea0af-08de-498e-b7e6-71539d1eb4fd",
   "metadata": {},
   "source": [
    "#### Volume"
   ]
  },
  {
   "cell_type": "code",
   "execution_count": 43,
   "id": "dbfc166b-74d3-400d-a05a-0da067b70378",
   "metadata": {},
   "outputs": [
    {
     "name": "stdout",
     "output_type": "stream",
     "text": [
      "Max Volume: 0.8999999999999999 m3\n"
     ]
    }
   ],
   "source": [
    "rdd_volume = rdd.withColumn(\"Volume\", col(\"circonference en cm\")/100 * col(\"hauteur en m\"))\n",
    "max_volume = rdd_volume.agg(min(\"Volume\")).collect()[0][0]\n",
    "print(f\"Max Volume: {max_volume} m3\")"
   ]
  },
  {
   "cell_type": "markdown",
   "id": "c40a6d83-d423-45dc-80fa-8d75ceb65495",
   "metadata": {},
   "source": [
    "#### Hauteur Moyenne"
   ]
  },
  {
   "cell_type": "code",
   "execution_count": 45,
   "id": "e0bb89a0-f6ce-4267-87e0-16e039d57ac0",
   "metadata": {},
   "outputs": [
    {
     "name": "stdout",
     "output_type": "stream",
     "text": [
      "La hauteur moyenne des arbres est de: 19.233333333333334 m3\n"
     ]
    }
   ],
   "source": [
    "mean_h = rdd.agg(mean(col(\"hauteur en m\"))).collect()[0][0]\n",
    "print(f\"La hauteur moyenne des arbres est de: {mean_h} m3\")"
   ]
  },
  {
   "cell_type": "markdown",
   "id": "7f71abe1-88d7-459c-8e61-de661316a39d",
   "metadata": {},
   "source": [
    "#### Arrondissement avec le nombre d'arbres max"
   ]
  },
  {
   "cell_type": "code",
   "execution_count": 69,
   "id": "84aa5a1e-2530-4653-a664-b11b88e0bb9b",
   "metadata": {},
   "outputs": [
    {
     "name": "stdout",
     "output_type": "stream",
     "text": [
      "+---------------+-----+\n",
      "|arrondissement3|count|\n",
      "+---------------+-----+\n",
      "|PARIS 16E ARRDT|   30|\n",
      "+---------------+-----+\n",
      "\n"
     ]
    },
    {
     "name": "stderr",
     "output_type": "stream",
     "text": [
      "23/07/25 11:56:49 WARN CSVHeaderChecker: CSV header does not conform to the schema.\n",
      " Header: arrondissement\n",
      " Schema: arrondissement3\n",
      "Expected: arrondissement3 but found: arrondissement\n",
      "CSV file: file:///Users/manulabricole/Documents/CDN/BigData/arbresremarquablesparis.csv\n",
      "23/07/25 11:56:49 WARN CSVHeaderChecker: CSV header does not conform to the schema.\n",
      " Header: arrondissement\n",
      " Schema: arrondissement3\n",
      "Expected: arrondissement3 but found: arrondissement\n",
      "CSV file: file:///Users/manulabricole/Documents/CDN/BigData/arbresremarquablesparis.csv\n"
     ]
    }
   ],
   "source": [
    "rdd_arrondissement = rdd.groupBy(\"arrondissement3\").count()\n",
    "max_trees_count = rdd_arrondissement.agg({\"count\": \"max\"}).collect()[0][0]\n",
    "max_arbres_arrondissement = rdd_arrondissement.filter(col(\"count\") == max_trees_count)\n",
    "max_arbres_arrondissement.show()"
   ]
  },
  {
   "cell_type": "code",
   "execution_count": null,
   "id": "6dd6be5f-52d5-4bea-a604-dde9bb5540ee",
   "metadata": {},
   "outputs": [],
   "source": []
  },
  {
   "cell_type": "code",
   "execution_count": null,
   "id": "d7aa4042-a381-428c-903f-b60c19e8803d",
   "metadata": {},
   "outputs": [],
   "source": []
  },
  {
   "cell_type": "code",
   "execution_count": null,
   "id": "2fc50ae4-726f-4037-8ba0-adf6f8a5f57a",
   "metadata": {},
   "outputs": [],
   "source": []
  }
 ],
 "metadata": {
  "kernelspec": {
   "display_name": "Python 3 (ipykernel)",
   "language": "python",
   "name": "python3"
  },
  "language_info": {
   "codemirror_mode": {
    "name": "ipython",
    "version": 3
   },
   "file_extension": ".py",
   "mimetype": "text/x-python",
   "name": "python",
   "nbconvert_exporter": "python",
   "pygments_lexer": "ipython3",
   "version": "3.11.0"
  }
 },
 "nbformat": 4,
 "nbformat_minor": 5
}
