{
 "cells": [
  {
   "cell_type": "markdown",
   "id": "29511fb6-8298-4876-8d66-085922e1c149",
   "metadata": {
    "jp-MarkdownHeadingCollapsed": true
   },
   "source": [
    "# Import & Launch Session"
   ]
  },
  {
   "cell_type": "code",
   "execution_count": 18,
   "id": "933d36b3-ff00-4c15-a079-88445fb43f8d",
   "metadata": {},
   "outputs": [],
   "source": [
    "import pandas as pd\n",
    "import os"
   ]
  },
  {
   "cell_type": "code",
   "execution_count": 19,
   "id": "41157a86-0626-4cd1-b023-a05f6006b916",
   "metadata": {},
   "outputs": [],
   "source": [
    "from pyspark import SparkContext, SparkConf\n",
    "from pyspark.sql import SparkSession, Row"
   ]
  },
  {
   "cell_type": "markdown",
   "id": "558b8059-849e-4970-bd56-57f06201ed47",
   "metadata": {},
   "source": [
    "## Utils"
   ]
  },
  {
   "cell_type": "code",
   "execution_count": 20,
   "id": "dd524ce1-0332-4ac2-a11b-d24eea4dfe37",
   "metadata": {},
   "outputs": [],
   "source": [
    "def print_context_infos(context):\n",
    "    print(\"VERSION: \",context.version)\n",
    "    print(\"PYTHON_VERSION: \", context.pythonVer)\n",
    "    print(\"MASTER: \", context.master)\n",
    "    print(\"SPARK_HOME: \", str(context.sparkHome))\n",
    "    print(\"SPARK_USER: \", str(context.sparkUser()))\n",
    "    print(\"APP_NAME: \", context.appName)\n",
    "    print(\"APP_ID: \", context.applicationId)\n",
    "    print(\"DEFAULT_PARALLESLISM: \", context.defaultParallelism)\n",
    "    print(\"DEFAULT_PARTITION: \", context.defaultMinPartitions)"
   ]
  },
  {
   "cell_type": "markdown",
   "id": "2ed16276-8f60-459d-96e0-a2e30c3e612c",
   "metadata": {},
   "source": [
    "## Initialisation"
   ]
  },
  {
   "cell_type": "code",
   "execution_count": 21,
   "id": "1cb17d38-9eba-4792-bd91-5e524fa7a249",
   "metadata": {},
   "outputs": [
    {
     "name": "stdout",
     "output_type": "stream",
     "text": [
      "/Users/manulabricole/Documents/CDN/BigData\n"
     ]
    }
   ],
   "source": [
    "cwd = os.getcwd()\n",
    "print(cwd)"
   ]
  },
  {
   "cell_type": "code",
   "execution_count": 22,
   "id": "412e4ff6-8253-4a37-8d69-1998a0600acf",
   "metadata": {},
   "outputs": [
    {
     "name": "stdout",
     "output_type": "stream",
     "text": [
      "Spark Web UI: http://localhost:4040\n"
     ]
    }
   ],
   "source": [
    "spark_session = SparkSession.builder \\\n",
    "    .appName(\"book_session\") \\\n",
    "    .config(\"spark.driver.bindAddress\", \"127.0.0.1\") \\\n",
    "    .enableHiveSupport() \\\n",
    "    .getOrCreate()\n",
    "print(\"Spark Web UI: http://localhost:4040\")"
   ]
  },
  {
   "cell_type": "code",
   "execution_count": 23,
   "id": "27975928-0d57-4d22-9a1a-eb5f689ac7f2",
   "metadata": {},
   "outputs": [
    {
     "name": "stdout",
     "output_type": "stream",
     "text": [
      "VERSION:  3.4.1\n",
      "PYTHON_VERSION:  3.11\n",
      "MASTER:  local[*]\n",
      "SPARK_HOME:  None\n",
      "SPARK_USER:  manulabricole\n",
      "APP_NAME:  book_session\n",
      "APP_ID:  local-1690286868117\n",
      "DEFAULT_PARALLESLISM:  10\n",
      "DEFAULT_PARTITION:  2\n"
     ]
    }
   ],
   "source": [
    "spark_context = spark_session.sparkContext\n",
    "print_context_infos(spark_context)"
   ]
  },
  {
   "cell_type": "markdown",
   "id": "2ec3b9e0-ce5d-4ab6-807f-6d6f524d62f1",
   "metadata": {},
   "source": [
    "## Import text"
   ]
  },
  {
   "cell_type": "code",
   "execution_count": 24,
   "id": "3afd264d-feaa-40aa-89e3-2f86cf92ee63",
   "metadata": {},
   "outputs": [
    {
     "name": "stdout",
     "output_type": "stream",
     "text": [
      "/Users/manulabricole/Documents/CDN/BigData/beautifull_story.txt\n"
     ]
    }
   ],
   "source": [
    "filename = \"beautifull_story.txt\"\n",
    "text_path = os.path.join(cwd, filename)\n",
    "print(text_path)"
   ]
  },
  {
   "cell_type": "code",
   "execution_count": 25,
   "id": "e6c976ac-70bb-43ad-827e-6ea497bbc70e",
   "metadata": {},
   "outputs": [],
   "source": [
    "text_rdd = spark_session.sparkContext.textFile(text_path)"
   ]
  },
  {
   "cell_type": "code",
   "execution_count": 26,
   "id": "2b545a7e-d900-47e6-9d01-c2e837378830",
   "metadata": {},
   "outputs": [
    {
     "name": "stdout",
     "output_type": "stream",
     "text": [
      "Project Gutenberg's Beautiful Stories from Shakespeare, by E. Nesbit\n",
      "\n",
      "This eBook is for the use of anyone anywhere at no cost and with\n",
      "almost no restrictions whatsoever.  You may copy it, give it away or\n",
      "re-use it under the terms of the Project Gutenberg License included\n"
     ]
    }
   ],
   "source": [
    "for line in text_rdd.take(5):\n",
    "    print(line)"
   ]
  },
  {
   "cell_type": "code",
   "execution_count": null,
   "id": "51aceb49-4456-45fd-be4e-3f7c96825513",
   "metadata": {},
   "outputs": [],
   "source": []
  },
  {
   "cell_type": "code",
   "execution_count": null,
   "id": "7b79fdd1-46e6-4921-ad29-d99b71aea39f",
   "metadata": {},
   "outputs": [],
   "source": []
  }
 ],
 "metadata": {
  "kernelspec": {
   "display_name": "Python 3 (ipykernel)",
   "language": "python",
   "name": "python3"
  },
  "language_info": {
   "codemirror_mode": {
    "name": "ipython",
    "version": 3
   },
   "file_extension": ".py",
   "mimetype": "text/x-python",
   "name": "python",
   "nbconvert_exporter": "python",
   "pygments_lexer": "ipython3",
   "version": "3.11.0"
  }
 },
 "nbformat": 4,
 "nbformat_minor": 5
}
